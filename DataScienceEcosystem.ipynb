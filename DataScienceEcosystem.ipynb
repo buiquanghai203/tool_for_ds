{
 "cells": [
  {
   "cell_type": "markdown",
   "id": "04270276-0c65-4c20-b2f1-676d2bf45f5a",
   "metadata": {},
   "source": [
    "**Exercise 2: Create a Jupyter Notebook**"
   ]
  },
  {
   "cell_type": "markdown",
   "id": "44b7ba91-b49c-4878-bb7c-bb43aed3e448",
   "metadata": {},
   "source": [
    "# Data Science Tools and Ecosystem"
   ]
  },
  {
   "cell_type": "markdown",
   "id": "77a3ba16-fc00-4afc-827a-4be48f69c0e3",
   "metadata": {},
   "source": [
    "**Exercise 3 - Create a markdown cell for an introduction**"
   ]
  },
  {
   "cell_type": "markdown",
   "id": "3c84d393-7887-4be1-bd1b-281c8f34a1e4",
   "metadata": {},
   "source": [
    "In this notebook, Data Science Tools and Ecosystem are summarized."
   ]
  },
  {
   "cell_type": "markdown",
   "id": "9d5c71f3-a37f-475a-bea3-a44584707b3f",
   "metadata": {},
   "source": [
    "**Exercise 4 - Create a markdown cell to list data science languages**"
   ]
  },
  {
   "cell_type": "markdown",
   "id": "6e441ffb-8402-4e48-a946-1ec979352908",
   "metadata": {},
   "source": [
    "Some of the popular languages that Data Scientists use are:\n",
    "* Python\n",
    "* R\n",
    "* Julia"
   ]
  },
  {
   "cell_type": "markdown",
   "id": "540ad771-3d3d-4c8d-8e44-c0186d5b3aad",
   "metadata": {},
   "source": [
    "**Exercise 5 - Create a markdown cell to list data science libraries**"
   ]
  },
  {
   "cell_type": "markdown",
   "id": "d1953f86-283b-41a5-b89b-c2cadb3094e8",
   "metadata": {},
   "source": [
    "Some of the commonly used libraries used by Data Scientists include:\n",
    "- numpy\n",
    "- matplotlib\n",
    "- scikit-learn"
   ]
  },
  {
   "cell_type": "markdown",
   "id": "368ed909-371f-40c4-81b2-ee7fa240aca6",
   "metadata": {},
   "source": [
    "**Exercise 6 - Create a markdown cell with a table of Data Science tools**"
   ]
  },
  {
   "cell_type": "markdown",
   "id": "c4f30a20-c8ea-4faa-84e1-9db142d69bdc",
   "metadata": {},
   "source": [
    "|Data Science Tools|\n",
    "|-|\n",
    "|Apache Hadoop|\n",
    " |Apache Spark|\n",
    " |Jupiter Notebook|"
   ]
  },
  {
   "cell_type": "markdown",
   "id": "415616e0-7d3c-4cc8-8048-609a07ed3d42",
   "metadata": {},
   "source": [
    "**Exercise 7 - Create a markdown cell introducing arithmetic expression examples**"
   ]
  },
  {
   "cell_type": "markdown",
   "id": "297f5802-d694-451a-95bf-5626daf7086b",
   "metadata": {},
   "source": [
    "### Below are a few examples of evaluating arithmetic expressions in Python"
   ]
  },
  {
   "cell_type": "markdown",
   "id": "8ff9e4f2-e872-4df7-bc52-f2da2532e724",
   "metadata": {},
   "source": [
    "**Exercise 8 - Create a code cell to multiply and add numbers**"
   ]
  },
  {
   "cell_type": "code",
   "execution_count": 1,
   "id": "fe91a66f-fe97-41f9-9f42-30b6cc92a0a7",
   "metadata": {},
   "outputs": [
    {
     "data": {
      "text/plain": [
       "17"
      ]
     },
     "execution_count": 1,
     "metadata": {},
     "output_type": "execute_result"
    }
   ],
   "source": [
    "# This a simple arithmetic expression to mutiply then add integers\n",
    "(3*4)+5"
   ]
  },
  {
   "cell_type": "markdown",
   "id": "fa0d7695-b4d1-42f5-beb2-21cda6916b40",
   "metadata": {},
   "source": [
    "**Exercise 9 - Create a code cell to convert minutes to hours**"
   ]
  },
  {
   "cell_type": "code",
   "execution_count": 3,
   "id": "ce025072-c2d1-4716-8d3b-0c51674c2886",
   "metadata": {},
   "outputs": [
    {
     "name": "stdout",
     "output_type": "stream",
     "text": [
      "3.3333333333333335 hours\n"
     ]
    }
   ],
   "source": [
    "# This will convert 200 minutes to hours by diving by 60\n",
    "minutes = 200\n",
    "hours = minutes/60\n",
    "print(hours,'hours')"
   ]
  },
  {
   "cell_type": "markdown",
   "id": "57b7f00d-b092-4718-8a75-d10f81056c8d",
   "metadata": {},
   "source": [
    "**Exercise 10 - Insert a markdown cell to list Objectives**"
   ]
  },
  {
   "cell_type": "markdown",
   "id": "546a9556-c26a-4325-bcc7-62c2659c22ec",
   "metadata": {},
   "source": [
    "**list example Objectives:**\n",
    "* Create a markdown cell for an introduction\n",
    "* Create a markdown cell to list data science languages\n",
    "* Create a code cell to multiply and add numbers"
   ]
  },
  {
   "cell_type": "markdown",
   "id": "acf5288a-2318-4ffc-96fc-be5631f20cfb",
   "metadata": {},
   "source": [
    "**Exercise 11 - Create a markdown cell to indicate the Author's name**"
   ]
  },
  {
   "cell_type": "markdown",
   "id": "6bf5302a-478d-4d94-b111-8ff1eeec2e39",
   "metadata": {},
   "source": [
    "## Author\n",
    "Bui Quang Hai"
   ]
  },
  {
   "cell_type": "code",
   "execution_count": null,
   "id": "930fcbbb-941a-461d-bb93-4b7e0de9b039",
   "metadata": {},
   "outputs": [],
   "source": []
  }
 ],
 "metadata": {
  "kernelspec": {
   "display_name": "Python 3 (ipykernel)",
   "language": "python",
   "name": "python3"
  },
  "language_info": {
   "codemirror_mode": {
    "name": "ipython",
    "version": 3
   },
   "file_extension": ".py",
   "mimetype": "text/x-python",
   "name": "python",
   "nbconvert_exporter": "python",
   "pygments_lexer": "ipython3",
   "version": "3.11.7"
  }
 },
 "nbformat": 4,
 "nbformat_minor": 5
}
